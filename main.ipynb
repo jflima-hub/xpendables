{
 "cells": [
  {
   "cell_type": "code",
   "execution_count": 89,
   "metadata": {},
   "outputs": [],
   "source": [
    "import pandas"
   ]
  },
  {
   "cell_type": "code",
   "execution_count": 90,
   "metadata": {},
   "outputs": [
    {
     "data": {
      "text/plain": [
       "date                object\n",
       "description         object\n",
       "code                object\n",
       "value               object\n",
       "transaction_type    object\n",
       "dtype: object"
      ]
     },
     "metadata": {},
     "output_type": "display_data"
    },
    {
     "data": {
      "text/html": [
       "<div>\n",
       "<style scoped>\n",
       "    .dataframe tbody tr th:only-of-type {\n",
       "        vertical-align: middle;\n",
       "    }\n",
       "\n",
       "    .dataframe tbody tr th {\n",
       "        vertical-align: top;\n",
       "    }\n",
       "\n",
       "    .dataframe thead th {\n",
       "        text-align: right;\n",
       "    }\n",
       "</style>\n",
       "<table border=\"1\" class=\"dataframe\">\n",
       "  <thead>\n",
       "    <tr style=\"text-align: right;\">\n",
       "      <th></th>\n",
       "      <th>date</th>\n",
       "      <th>description</th>\n",
       "      <th>code</th>\n",
       "      <th>value</th>\n",
       "      <th>transaction_type</th>\n",
       "    </tr>\n",
       "  </thead>\n",
       "  <tbody>\n",
       "    <tr>\n",
       "      <th>count</th>\n",
       "      <td>78</td>\n",
       "      <td>78</td>\n",
       "      <td>78</td>\n",
       "      <td>78</td>\n",
       "      <td>78</td>\n",
       "    </tr>\n",
       "    <tr>\n",
       "      <th>unique</th>\n",
       "      <td>18</td>\n",
       "      <td>50</td>\n",
       "      <td>74</td>\n",
       "      <td>68</td>\n",
       "      <td>2</td>\n",
       "    </tr>\n",
       "    <tr>\n",
       "      <th>top</th>\n",
       "      <td>08/01/2024</td>\n",
       "      <td>CREDITO PIX - JOAO FILIPE DE MANTOVA CARDOSO DE</td>\n",
       "      <td>1249.593.0</td>\n",
       "      <td>50,00</td>\n",
       "      <td>D</td>\n",
       "    </tr>\n",
       "    <tr>\n",
       "      <th>freq</th>\n",
       "      <td>9</td>\n",
       "      <td>6</td>\n",
       "      <td>3</td>\n",
       "      <td>5</td>\n",
       "      <td>71</td>\n",
       "    </tr>\n",
       "  </tbody>\n",
       "</table>\n",
       "</div>"
      ],
      "text/plain": [
       "              date                                      description  \\\n",
       "count           78                                               78   \n",
       "unique          18                                               50   \n",
       "top     08/01/2024  CREDITO PIX - JOAO FILIPE DE MANTOVA CARDOSO DE   \n",
       "freq             9                                                6   \n",
       "\n",
       "              code  value transaction_type  \n",
       "count           78     78               78  \n",
       "unique          74     68                2  \n",
       "top     1249.593.0  50,00                D  \n",
       "freq             3      5               71  "
      ]
     },
     "metadata": {},
     "output_type": "display_data"
    },
    {
     "name": "stdout",
     "output_type": "stream",
     "text": [
      "<class 'pandas.core.frame.DataFrame'>\n",
      "RangeIndex: 78 entries, 0 to 77\n",
      "Data columns (total 5 columns):\n",
      " #   Column            Non-Null Count  Dtype \n",
      "---  ------            --------------  ----- \n",
      " 0   date              78 non-null     object\n",
      " 1   description       78 non-null     object\n",
      " 2   code              78 non-null     object\n",
      " 3   value             78 non-null     object\n",
      " 4   transaction_type  78 non-null     object\n",
      "dtypes: object(5)\n",
      "memory usage: 3.2+ KB\n"
     ]
    },
    {
     "data": {
      "text/plain": [
       "None"
      ]
     },
     "metadata": {},
     "output_type": "display_data"
    },
    {
     "data": {
      "text/html": [
       "<div>\n",
       "<style scoped>\n",
       "    .dataframe tbody tr th:only-of-type {\n",
       "        vertical-align: middle;\n",
       "    }\n",
       "\n",
       "    .dataframe tbody tr th {\n",
       "        vertical-align: top;\n",
       "    }\n",
       "\n",
       "    .dataframe thead th {\n",
       "        text-align: right;\n",
       "    }\n",
       "</style>\n",
       "<table border=\"1\" class=\"dataframe\">\n",
       "  <thead>\n",
       "    <tr style=\"text-align: right;\">\n",
       "      <th></th>\n",
       "      <th>date</th>\n",
       "      <th>description</th>\n",
       "      <th>code</th>\n",
       "      <th>value</th>\n",
       "      <th>transaction_type</th>\n",
       "    </tr>\n",
       "  </thead>\n",
       "  <tbody>\n",
       "    <tr>\n",
       "      <th>0</th>\n",
       "      <td>02/01/2024</td>\n",
       "      <td>DEBITO PIX - REK PARKING EMPREENDIMENT</td>\n",
       "      <td>349688.135</td>\n",
       "      <td>5,00</td>\n",
       "      <td>D</td>\n",
       "    </tr>\n",
       "    <tr>\n",
       "      <th>1</th>\n",
       "      <td>02/01/2024</td>\n",
       "      <td>CARTAO DEBITO - PAG PescadosBlumenau</td>\n",
       "      <td>61230133633</td>\n",
       "      <td>127,07</td>\n",
       "      <td>D</td>\n",
       "    </tr>\n",
       "    <tr>\n",
       "      <th>2</th>\n",
       "      <td>02/01/2024</td>\n",
       "      <td>CARTAO DEBITO - HOTEL GLORIA</td>\n",
       "      <td>41231113414</td>\n",
       "      <td>84,00</td>\n",
       "      <td>D</td>\n",
       "    </tr>\n",
       "    <tr>\n",
       "      <th>3</th>\n",
       "      <td>02/01/2024</td>\n",
       "      <td>CREDITO PIX - JOAO FILIPE DE MANTOVA CARDOSO DE</td>\n",
       "      <td>350459.087</td>\n",
       "      <td>4.000,00</td>\n",
       "      <td>C</td>\n",
       "    </tr>\n",
       "    <tr>\n",
       "      <th>4</th>\n",
       "      <td>02/01/2024</td>\n",
       "      <td>CARTAO DEBITO - BISTEK SUPERM F 167</td>\n",
       "      <td>20102135418</td>\n",
       "      <td>368,70</td>\n",
       "      <td>D</td>\n",
       "    </tr>\n",
       "    <tr>\n",
       "      <th>...</th>\n",
       "      <td>...</td>\n",
       "      <td>...</td>\n",
       "      <td>...</td>\n",
       "      <td>...</td>\n",
       "      <td>...</td>\n",
       "    </tr>\n",
       "    <tr>\n",
       "      <th>73</th>\n",
       "      <td>26/01/2024</td>\n",
       "      <td>CARTAO DEBITO - CG - CAFEHAUS</td>\n",
       "      <td>10126113805</td>\n",
       "      <td>14,00</td>\n",
       "      <td>D</td>\n",
       "    </tr>\n",
       "    <tr>\n",
       "      <th>74</th>\n",
       "      <td>26/01/2024</td>\n",
       "      <td>CARTAO DEBITO - POSTOS META LINEAR</td>\n",
       "      <td>70126114918</td>\n",
       "      <td>100,00</td>\n",
       "      <td>D</td>\n",
       "    </tr>\n",
       "    <tr>\n",
       "      <th>75</th>\n",
       "      <td>29/01/2024</td>\n",
       "      <td>DEBITO PIX - RAQUEL ANDRESSA LUCIANI KLOCK</td>\n",
       "      <td>362806.475</td>\n",
       "      <td>25,60</td>\n",
       "      <td>D</td>\n",
       "    </tr>\n",
       "    <tr>\n",
       "      <th>76</th>\n",
       "      <td>29/01/2024</td>\n",
       "      <td>CARTAO DEBITO - BISTEK SUPERM F 167</td>\n",
       "      <td>60128135916</td>\n",
       "      <td>272,93</td>\n",
       "      <td>D</td>\n",
       "    </tr>\n",
       "    <tr>\n",
       "      <th>77</th>\n",
       "      <td>29/01/2024</td>\n",
       "      <td>CREDITO PIX - JOAO FILIPE DE MANTOVA CARDOSO DE</td>\n",
       "      <td>363116.375</td>\n",
       "      <td>150,00</td>\n",
       "      <td>C</td>\n",
       "    </tr>\n",
       "  </tbody>\n",
       "</table>\n",
       "<p>78 rows × 5 columns</p>\n",
       "</div>"
      ],
      "text/plain": [
       "          date                                      description         code  \\\n",
       "0   02/01/2024           DEBITO PIX - REK PARKING EMPREENDIMENT   349688.135   \n",
       "1   02/01/2024             CARTAO DEBITO - PAG PescadosBlumenau  61230133633   \n",
       "2   02/01/2024                     CARTAO DEBITO - HOTEL GLORIA  41231113414   \n",
       "3   02/01/2024  CREDITO PIX - JOAO FILIPE DE MANTOVA CARDOSO DE   350459.087   \n",
       "4   02/01/2024              CARTAO DEBITO - BISTEK SUPERM F 167  20102135418   \n",
       "..         ...                                              ...          ...   \n",
       "73  26/01/2024                    CARTAO DEBITO - CG - CAFEHAUS  10126113805   \n",
       "74  26/01/2024               CARTAO DEBITO - POSTOS META LINEAR  70126114918   \n",
       "75  29/01/2024       DEBITO PIX - RAQUEL ANDRESSA LUCIANI KLOCK   362806.475   \n",
       "76  29/01/2024              CARTAO DEBITO - BISTEK SUPERM F 167  60128135916   \n",
       "77  29/01/2024  CREDITO PIX - JOAO FILIPE DE MANTOVA CARDOSO DE   363116.375   \n",
       "\n",
       "       value transaction_type  \n",
       "0       5,00                D  \n",
       "1     127,07                D  \n",
       "2      84,00                D  \n",
       "3   4.000,00                C  \n",
       "4     368,70                D  \n",
       "..       ...              ...  \n",
       "73     14,00                D  \n",
       "74    100,00                D  \n",
       "75     25,60                D  \n",
       "76    272,93                D  \n",
       "77    150,00                C  \n",
       "\n",
       "[78 rows x 5 columns]"
      ]
     },
     "metadata": {},
     "output_type": "display_data"
    }
   ],
   "source": [
    "df = pandas.read_csv(\n",
    "    './extrato_janeiro.csv', \n",
    "    delimiter=';', \n",
    "    names=['date', 'description', 'code', 'value', 'transaction_type'], \n",
    "    header=0\n",
    ")\n",
    "display(df.dtypes)\n",
    "display(df.describe())\n",
    "display(df.info())\n",
    "display(df)"
   ]
  },
  {
   "cell_type": "code",
   "execution_count": 91,
   "metadata": {},
   "outputs": [],
   "source": [
    "def convert_value(value: str):\n",
    "    return float(value.replace('.', '').replace(',', '.'))\n",
    "\n",
    "def format_currency_ptbr(value: float):\n",
    "    return \"R${:,.2f}\".format(value)\n",
    "\n",
    "df['value'] = df['value'].apply(convert_value)\n",
    "df['date'] = pandas.to_datetime(df['date'], format='%d/%m/%Y')"
   ]
  },
  {
   "cell_type": "code",
   "execution_count": 92,
   "metadata": {},
   "outputs": [
    {
     "name": "stdout",
     "output_type": "stream",
     "text": [
      "<class 'pandas.core.frame.DataFrame'>\n",
      "RangeIndex: 78 entries, 0 to 77\n",
      "Data columns (total 5 columns):\n",
      " #   Column            Non-Null Count  Dtype         \n",
      "---  ------            --------------  -----         \n",
      " 0   date              78 non-null     datetime64[ns]\n",
      " 1   description       78 non-null     object        \n",
      " 2   code              78 non-null     object        \n",
      " 3   value             78 non-null     float64       \n",
      " 4   transaction_type  78 non-null     object        \n",
      "dtypes: datetime64[ns](1), float64(1), object(3)\n",
      "memory usage: 3.2+ KB\n"
     ]
    }
   ],
   "source": [
    "df.info()"
   ]
  },
  {
   "cell_type": "code",
   "execution_count": 93,
   "metadata": {},
   "outputs": [
    {
     "name": "stdout",
     "output_type": "stream",
     "text": [
      "Débitos: R$11,583.06\n"
     ]
    }
   ],
   "source": [
    "debts = format_currency_ptbr(df['value'].where(df['transaction_type'] == 'D').sum())\n",
    "print('Débitos:', debts)"
   ]
  },
  {
   "cell_type": "code",
   "execution_count": 94,
   "metadata": {},
   "outputs": [
    {
     "name": "stdout",
     "output_type": "stream",
     "text": [
      "Créditos: R$11,337.00\n"
     ]
    }
   ],
   "source": [
    "creds = format_currency_ptbr(df['value'].where(df['transaction_type'] == 'C').sum())\n",
    "print('Créditos:', creds)"
   ]
  }
 ],
 "metadata": {
  "kernelspec": {
   "display_name": "Python 3",
   "language": "python",
   "name": "python3"
  },
  "language_info": {
   "codemirror_mode": {
    "name": "ipython",
    "version": 3
   },
   "file_extension": ".py",
   "mimetype": "text/x-python",
   "name": "python",
   "nbconvert_exporter": "python",
   "pygments_lexer": "ipython3",
   "version": "3.10.13"
  }
 },
 "nbformat": 4,
 "nbformat_minor": 2
}
